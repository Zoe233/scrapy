{
 "cells": [
  {
   "cell_type": "markdown",
   "metadata": {},
   "source": [
    "## 第一节 期权及其特点和基本类型"
   ]
  },
  {
   "cell_type": "markdown",
   "metadata": {},
   "source": [
    "### 考点1：期权和期权交易\n",
    "#### 一、期权\n",
    "期权（Options）：也称为**选择权**，是指期权的买方有权在约定的期限内，按照事先确定的价格，买入或卖出一定数量某种特定商品或金融指标的**权利**。\n",
    "\n",
    "#### 二、期权基本要素\n",
    "期权基本要素：期权交易时所涉及或必须考虑的基本因素或指标。  \n",
    "1. 标的资产（标的物）：期权合约的标的，是期权合约中约定的、买方行使权利时所购买或出售的资产。  \n",
    "现货资产/期货资产；实物资产/金融资产/金融指标（股票价格指数）\n",
    "\n",
    "2. 期权的价格（权利金、期权费、保险费）：指期权买方为取得期权合约所赋予的权利（按照约定价格购买或出售标的资产的权利）而支付给卖方的费用。   \n",
    "\n",
    "3. 行权方向：是期权买方**行权时的操作方向**。行权方向有**买入和卖出**两种，行权方向由期权类型是看涨期权还是看跌期权决定。  \n",
    "\n",
    "4. 行权方式：即**执行方式**，是期权合约规定的期权多头可以执行期权的时间，有**到期日才可以执行**的期权，也有在**期权有效期内**任何时间都可以执行的期权。  \n",
    "**美式期权**在期权有效期内的任何时间都可以执行权利；   \n",
    "**欧式期权**只有在期权到期日才可以行权。   \n",
    "\n",
    "5. 执行价格（履约价格、行权价格）：期权合约中约定的、买方行使权利时购买或出售标的资产的价格。  \n",
    "    - 同一标的资产，交易所可同时推出**多个不同到期月份**的期权合约；同一月份的期权合约又有**不同类型**的期权\n",
    "    - 相同标的资产、相同到期月份、相同期权类型的看涨期权或看跌期权，交易所会同时推出几个、几十个甚至几百个**不同执行价格**的期权\n",
    "    - 不同交易所或同一交易所不同的期权合约，执行价格的推出方式和给出**数量不同**；同一期权合约不同执行价格段，**执行价格间距也会不相同**\n",
    "    - 不同交易所或同一交易所不同的期权合约、期权合约的**剩余期限不同、标的资产价格波动程度不同**，交易所推出的执行价格的起始值和执行价格间距可能不同，执行价格数量不同。 \n",
    "\n",
    "\n",
    "6. 最后交易日：合约能够在交易所交易的最后日期，具体表现为期权合约到期月份的某一日。若过了该日期，该月份的合约将在交易所终止交易，交易所会挂出新的到期月份的期权合约。   \n",
    "\n",
    "\n",
    "7. 期权到期日：指期权买方可以执行期权的最后日期。（美式期权和欧式期权不同）    \n",
    "过了该时间，没有被执行的期权合约将停止行权，期权买方权利作废，期权卖方的义务也随之解除。    \n",
    "\n",
    "\n",
    "注意：  \n",
    "最后交易日和到期日可以是同一天，也可以不是同一天。   \n",
    "若不是同一天，到期日通常在最后交易日之后，即期权合约在交易所终止交易后，期权多头可考虑是否执行期权。   \n",
    "Eg：上证所上证50ETF期权的最后交易日和到期日是同一天，均为期权合约月份的第四个星期三，行权交收日为下一个交易日。  \n",
    "\n",
    "\n",
    "#### 三、期权交易和建仓及头寸了结\n",
    "1. 期权交易：对象是期权合约，期权交易是针对某种具体权利，是关于买权或卖权的买卖。买方支付期权费获得期权，在规定的行权期内，买方可以行使权利买进或卖出期权标的资产，买方有执行期权的权利，也可放弃行权，所以期权交易可以称为**选择权交易**。   \n",
    "\n",
    "2. 建仓（场内期权交易：双向交易方式）   \n",
    "2.1 开仓买入：建立期权多头头寸，可开仓买入看涨期权，称为建立**看涨期权多头头寸**；也可开仓买入看跌期权，称为建立**看跌期权多头头寸**。   \n",
    "2.2 开仓卖出：建立期权空头头寸，可开仓卖出看涨期权，称为建立**看涨期权空头头寸**；也可开仓卖出看跌期权，称为建立**看跌期权空头头寸**。   \n",
    "\n",
    "3. 了解期权头寸的方式\n",
    "3.1 期权多头了结方式：对冲平仓、行权、持有期权至合约到期。  \n",
    "3.2 期权空头了结方式： \n",
    "        - 若期权多头行权，则空头必须履约，即以履约的方式期权头寸；\n",
    "        - 如果期权多头没有行权（放弃行权），则空头也可通过对冲平仓了结头寸，或持有期权至合约到期。"
   ]
  },
  {
   "cell_type": "markdown",
   "metadata": {},
   "source": []
  },
  {
   "cell_type": "markdown",
   "metadata": {},
   "source": []
  },
  {
   "cell_type": "markdown",
   "metadata": {},
   "source": []
  },
  {
   "cell_type": "markdown",
   "metadata": {},
   "source": [
    "---"
   ]
  },
  {
   "cell_type": "markdown",
   "metadata": {},
   "source": [
    "## 第二节 期权价格及影响因素"
   ]
  },
  {
   "cell_type": "markdown",
   "metadata": {},
   "source": []
  },
  {
   "cell_type": "markdown",
   "metadata": {},
   "source": []
  },
  {
   "cell_type": "markdown",
   "metadata": {},
   "source": []
  },
  {
   "cell_type": "markdown",
   "metadata": {},
   "source": []
  },
  {
   "cell_type": "markdown",
   "metadata": {},
   "source": [
    "---"
   ]
  },
  {
   "cell_type": "markdown",
   "metadata": {},
   "source": [
    "## 第三节 期权交易的基本策略"
   ]
  },
  {
   "cell_type": "markdown",
   "metadata": {},
   "source": []
  },
  {
   "cell_type": "markdown",
   "metadata": {},
   "source": []
  },
  {
   "cell_type": "markdown",
   "metadata": {},
   "source": []
  },
  {
   "cell_type": "markdown",
   "metadata": {},
   "source": []
  },
  {
   "cell_type": "code",
   "execution_count": null,
   "metadata": {},
   "outputs": [],
   "source": []
  },
  {
   "cell_type": "markdown",
   "metadata": {},
   "source": []
  },
  {
   "cell_type": "markdown",
   "metadata": {},
   "source": []
  },
  {
   "cell_type": "markdown",
   "metadata": {},
   "source": []
  },
  {
   "cell_type": "markdown",
   "metadata": {},
   "source": []
  },
  {
   "cell_type": "markdown",
   "metadata": {},
   "source": []
  },
  {
   "cell_type": "markdown",
   "metadata": {},
   "source": []
  },
  {
   "cell_type": "markdown",
   "metadata": {},
   "source": []
  },
  {
   "cell_type": "markdown",
   "metadata": {},
   "source": []
  },
  {
   "cell_type": "markdown",
   "metadata": {},
   "source": []
  }
 ],
 "metadata": {
  "kernelspec": {
   "display_name": "Python 3",
   "language": "python",
   "name": "python3"
  },
  "language_info": {
   "codemirror_mode": {
    "name": "ipython",
    "version": 3
   },
   "file_extension": ".py",
   "mimetype": "text/x-python",
   "name": "python",
   "nbconvert_exporter": "python",
   "pygments_lexer": "ipython3",
   "version": "3.7.6"
  }
 },
 "nbformat": 4,
 "nbformat_minor": 4
}
