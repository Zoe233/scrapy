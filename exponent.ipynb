{
 "cells": [
  {
   "cell_type": "markdown",
   "metadata": {},
   "source": [
    "# 中厚板指数"
   ]
  },
  {
   "cell_type": "markdown",
   "metadata": {},
   "source": [
    "### 爬取参数\n",
    "- 江西萍钢 江阴市 普中板 Q235B 14-20mm\n",
    "- 江西萍钢 杭州市 普中板 Q235B 14-20mm"
   ]
  },
  {
   "cell_type": "markdown",
   "metadata": {},
   "source": [
    "- 江西萍钢 二级目录入口  https://list1.mysteel.com/market/p-220-----010102-0-0101-------1.html\n",
    "- 名称：25日江阴市场中厚板价格行情  \n",
    "    - 日期 + 日江阴市场中厚板价格行情  \n",
    "- 普中板\t14-20\tQ235B\t萍钢\t3760\n",
    "- \"ctr15\"\n",
    "\n",
    "\n",
    "- 杭州萍钢 二级目录入口  https://list1.mysteel.com/market/p-220-----010102-0-0101-------1.html\n",
    "- 名称：25日杭州市场中厚板价格行情\n",
    "    - 日期 + 日杭州市场中厚板价格行情\n",
    "- 普中板 14-20 Q235B 萍钢 3760 -10 现货\n",
    "- \"ctr10\""
   ]
  },
  {
   "cell_type": "code",
   "execution_count": 1,
   "metadata": {},
   "outputs": [],
   "source": [
    "# -*- coding: utf-8 -*-\n",
    "import os\n",
    "import requests\n",
    "\n",
    "import time\n",
    "import datetime\n",
    "from bs4 import BeautifulSoup\n",
    "from selenium import webdriver\n",
    "from selenium.webdriver.chrome.options import Options"
   ]
  },
  {
   "cell_type": "code",
   "execution_count": 2,
   "metadata": {},
   "outputs": [],
   "source": [
    "# 常量\n",
    "CHROME_DRIVER = 'D:\\Python\\驱动\\chromedriver_win32\\chromedriver.exe'\n",
    "\n",
    "## 设置条件参数\n",
    "date_today = datetime.datetime.now().day  # 取系统时间\n",
    "para_dic = {0:{\n",
    "               \"二级入口网址\":\"https://list1.mysteel.com/market/p-220-----010102-0-0101-------1.html\",\n",
    "               \"二级入口网址查找对应表名\":str(date_today) + \"日江阴市场中厚板价格行情\",\n",
    "               \"每日新增数据的网址\":None, \n",
    "               \"判断条件\":\"普中板 14-20 Q235B 萍钢\",\n",
    "               \"CTR值\":\"ctr15\" },\n",
    "           1:{\n",
    "              \"二级入口网址\":\"https://list1.mysteel.com/market/p-220-----010102-0-0101-------1.html\",\n",
    "              \"二级入口网址查找对应表名\":str(date_today) + \"日杭州市场中厚板价格行情\",\n",
    "              \"每日新增数据的网址\":None, \n",
    "              \"判断条件\":\"普中板 14-20 Q235B 萍钢\",\n",
    "              \"CTR值\":\"ctr10\"}}"
   ]
  },
  {
   "cell_type": "code",
   "execution_count": 3,
   "metadata": {},
   "outputs": [],
   "source": [
    "## 抓取对应的网页信息\n",
    "def get_specfic_table_link(table_content,match_title):\n",
    "    match_a = table_content.findAll(\"a\",title=match_title)  # 在获取到的页面的bs4对象上，继续找到对应a标签对象\n",
    "    \n",
    "    next_a_href_suffix = table_content.findAll(\"a\",title=match_title)[0].get(\"href\")\n",
    "    if next_a_href_suffix.startswith(\"http\"):\n",
    "        next_a_href = next_a_href_suffix\n",
    "    else:\n",
    "        next_a_href = \"https:\" + next_a_href_suffix\n",
    "    return next_a_href\n",
    "\n",
    "def find_content_href(index,para_dic=para_dic):\n",
    "    url = para_dic.get(index).get(\"二级入口网址\")\n",
    "    match_title = para_dic.get(index).get(\"二级入口网址查找对应表名\")\n",
    "    response = requests.get(url)\n",
    "    html_doc = response.text \n",
    "    soup = BeautifulSoup(html_doc,\"html.parser\")\n",
    "    table_content = soup.find(\"ul\",class_=\"nlist\")\n",
    "    \n",
    "    # 判断是否在第一页就能找到对应的 表名 a标签\n",
    "    titles = table_content.get_text().replace(\"\\t\",\"\").replace(\"\\n\",\"\")\n",
    "    \n",
    "    if titles.find(match_title) == -1:\n",
    "        # 找第二页\n",
    "        find_index = soup.find(\"div\",class_=\"page\")\n",
    "        page2 = find_index.find(\"a\")\n",
    "        if page2.contents[0] == \"2\":\n",
    "            page2_change = find_index.find(\"a\")[\"href\"].split(\"-\")[-1]\n",
    "            page2_url = url.replace(\"1.html\",page2_change)\n",
    "            response2 = requests.get(page2_url)\n",
    "            soup2 = BeautifulSoup(response2.text,\"html.parser\")\n",
    "            table_content2 = soup2.find(\"ul\",class_=\"nlist\")\n",
    "            titles2 = table_content2.get_text().replace(\"\\t\",\"\").replace(\"\\n\",\"\")\n",
    "            if titles2.find(match_title) == -1:\n",
    "                print(\"今日数据尚未更新\")\n",
    "                return para_dic\n",
    "            else: \n",
    "                para_dic[index][\"是否找到对应表名\"] = True\n",
    "                para_dic[index][\"每日新增数据的网址\"] = get_specfic_table_link(table_content2,match_title)\n",
    "    else:\n",
    "        # 如果找到了指定的表名\n",
    "        # 则解析获取对应的a标签的href网址\n",
    "        # 返回对应的表名的 href 字符串\n",
    "        para_dic[index][\"是否找到对应表名\"] = True\n",
    "        para_dic[index][\"每日新增数据的网址\"] = get_specfic_table_link(table_content,match_title) \n",
    "        return para_dic"
   ]
  },
  {
   "cell_type": "code",
   "execution_count": 4,
   "metadata": {},
   "outputs": [
    {
     "name": "stdout",
     "output_type": "stream",
     "text": [
      "True https://zhongban.mysteel.com/m/20/0602/10/B33AFDE840C49481.html\n",
      "True https://zhongban.mysteel.com/m/20/0602/09/CBDD0DB5BBD9F2F4.html\n"
     ]
    }
   ],
   "source": [
    "for i in range(len(para_dic)):\n",
    "    find_content_href(i)\n",
    "    print(para_dic.get(i).get(\"是否找到对应表名\"),para_dic.get(i).get(\"每日新增数据的网址\"))"
   ]
  },
  {
   "cell_type": "code",
   "execution_count": 5,
   "metadata": {
    "scrolled": true
   },
   "outputs": [
    {
     "data": {
      "text/plain": [
       "{0: {'二级入口网址': 'https://list1.mysteel.com/market/p-220-----010102-0-0101-------1.html',\n",
       "  '二级入口网址查找对应表名': '2日江阴市场中厚板价格行情',\n",
       "  '每日新增数据的网址': 'https://zhongban.mysteel.com/m/20/0602/10/B33AFDE840C49481.html',\n",
       "  '判断条件': '普中板 14-20 Q235B 萍钢',\n",
       "  'CTR值': 'ctr15',\n",
       "  '是否找到对应表名': True},\n",
       " 1: {'二级入口网址': 'https://list1.mysteel.com/market/p-220-----010102-0-0101-------1.html',\n",
       "  '二级入口网址查找对应表名': '2日杭州市场中厚板价格行情',\n",
       "  '每日新增数据的网址': 'https://zhongban.mysteel.com/m/20/0602/09/CBDD0DB5BBD9F2F4.html',\n",
       "  '判断条件': '普中板 14-20 Q235B 萍钢',\n",
       "  'CTR值': 'ctr10',\n",
       "  '是否找到对应表名': True}}"
      ]
     },
     "execution_count": 5,
     "metadata": {},
     "output_type": "execute_result"
    }
   ],
   "source": [
    "para_dic"
   ]
  },
  {
   "cell_type": "code",
   "execution_count": 6,
   "metadata": {
    "scrolled": true
   },
   "outputs": [
    {
     "name": "stdout",
     "output_type": "stream",
     "text": [
      "{'二级入口网址': 'https://list1.mysteel.com/market/p-220-----010102-0-0101-------1.html', '二级入口网址查找对应表名': '2日江阴市场中厚板价格行情', '每日新增数据的网址': 'https://zhongban.mysteel.com/m/20/0602/10/B33AFDE840C49481.html', '判断条件': '普中板 14-20 Q235B 萍钢', 'CTR值': 'ctr15', '是否找到对应表名': True, '匹配原始数据值': '普中板 14-20 Q235B 萍钢 3780 +20 货少 代理'}\n",
      "{'二级入口网址': 'https://list1.mysteel.com/market/p-220-----010102-0-0101-------1.html', '二级入口网址查找对应表名': '2日杭州市场中厚板价格行情', '每日新增数据的网址': 'https://zhongban.mysteel.com/m/20/0602/09/CBDD0DB5BBD9F2F4.html', '判断条件': '普中板 14-20 Q235B 萍钢', 'CTR值': 'ctr10', '是否找到对应表名': True, '匹配原始数据值': '普中板 14-20 Q235B 萍钢 3800 - 现货'}\n"
     ]
    }
   ],
   "source": [
    "#指定chrome的驱动\n",
    "#执行到这里的时候Selenium会到指定的路径将chrome driver程序运行起来\n",
    "driver = webdriver.Chrome(CHROME_DRIVER)\n",
    "if para_dic.get(0).get(\"每日新增数据的网址\") is not None:\n",
    "    driver.get(para_dic.get(1).get(\"每日新增数据的网址\"))\n",
    "else:\n",
    "    driver.get(\"https://zhongban.mysteel.com/m/20/0525/10/F21EFCF6E0FA1977.html\")\n",
    "    \n",
    "time.sleep(10)\n",
    "for k,v in para_dic.items():\n",
    "    #get 方法 打开指定网址\n",
    "    if para_dic.get(k).get(\"每日新增数据的网址\") is not None:\n",
    "            driver.get(para_dic.get(k).get(\"每日新增数据的网址\"))\n",
    "            id_ctr_value = para_dic.get(k).get(\"CTR值\")\n",
    "            #选择网页元素\n",
    "            element_keyword = driver.find_element_by_id(id_ctr_value)\n",
    "            para_dic[k][\"匹配原始数据值\"]=element_keyword.text\n",
    "        \n",
    "    time.sleep(1)\n",
    "    print(para_dic[k])"
   ]
  },
  {
   "cell_type": "code",
   "execution_count": 7,
   "metadata": {},
   "outputs": [
    {
     "data": {
      "text/plain": [
       "{0: {'二级入口网址': 'https://list1.mysteel.com/market/p-220-----010102-0-0101-------1.html',\n",
       "  '二级入口网址查找对应表名': '2日江阴市场中厚板价格行情',\n",
       "  '每日新增数据的网址': 'https://zhongban.mysteel.com/m/20/0602/10/B33AFDE840C49481.html',\n",
       "  '判断条件': '普中板 14-20 Q235B 萍钢',\n",
       "  'CTR值': 'ctr15',\n",
       "  '是否找到对应表名': True,\n",
       "  '匹配原始数据值': '普中板 14-20 Q235B 萍钢 3780 +20 货少 代理'},\n",
       " 1: {'二级入口网址': 'https://list1.mysteel.com/market/p-220-----010102-0-0101-------1.html',\n",
       "  '二级入口网址查找对应表名': '2日杭州市场中厚板价格行情',\n",
       "  '每日新增数据的网址': 'https://zhongban.mysteel.com/m/20/0602/09/CBDD0DB5BBD9F2F4.html',\n",
       "  '判断条件': '普中板 14-20 Q235B 萍钢',\n",
       "  'CTR值': 'ctr10',\n",
       "  '是否找到对应表名': True,\n",
       "  '匹配原始数据值': '普中板 14-20 Q235B 萍钢 3800 - 现货'}}"
      ]
     },
     "execution_count": 7,
     "metadata": {},
     "output_type": "execute_result"
    }
   ],
   "source": [
    "para_dic"
   ]
  },
  {
   "cell_type": "code",
   "execution_count": 8,
   "metadata": {},
   "outputs": [],
   "source": [
    "# 根据爬取的“匹配原始数据值” 与 “判断条件” 进行比较，确认爬取的记录是正确的\n",
    "def check_data(index,original,condition):\n",
    "    # original 是 爬取的数据，“匹配原始数据值”\n",
    "    # condition 是 “判断条件”\n",
    "    o_list = original.split()\n",
    "    c1,c2,c3,c4 = condition.split()\n",
    "    \n",
    "    if c1 == o_list[0] and c2 == o_list[1] and c3 == o_list[2] and c4 == o_list[3]:\n",
    "        print(para_dic.get(index).get(\"二级入口网址查找对应表名\") +\"     \"+ o_list[4])\n",
    "    else:\n",
    "        print(\"有错误，建议查找\")\n",
    "        "
   ]
  },
  {
   "cell_type": "code",
   "execution_count": 9,
   "metadata": {},
   "outputs": [
    {
     "name": "stdout",
     "output_type": "stream",
     "text": [
      "2日江阴市场中厚板价格行情     3780\n",
      "2日杭州市场中厚板价格行情     3800\n"
     ]
    }
   ],
   "source": [
    "for i in range(len(para_dic)):\n",
    "    original = para_dic.get(i).get(\"匹配原始数据值\")\n",
    "    condition = para_dic.get(i).get(\"判断条件\")\n",
    "    if original:\n",
    "        check_data(i,original,condition)\n",
    "    else:\n",
    "        print(\"NoneType值，不能进行校验\")"
   ]
  },
  {
   "cell_type": "markdown",
   "metadata": {},
   "source": []
  }
 ],
 "metadata": {
  "kernelspec": {
   "display_name": "Python 3",
   "language": "python",
   "name": "python3"
  },
  "language_info": {
   "codemirror_mode": {
    "name": "ipython",
    "version": 3
   },
   "file_extension": ".py",
   "mimetype": "text/x-python",
   "name": "python",
   "nbconvert_exporter": "python",
   "pygments_lexer": "ipython3",
   "version": "3.7.6"
  }
 },
 "nbformat": 4,
 "nbformat_minor": 4
}
