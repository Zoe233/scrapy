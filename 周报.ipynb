{
 "cells": [
  {
   "cell_type": "code",
   "execution_count": 1,
   "metadata": {},
   "outputs": [],
   "source": [
    "import os\n",
    "import time\n",
    "import datetime\n",
    "import numpy as np\n",
    "import pandas as pd"
   ]
  },
  {
   "cell_type": "markdown",
   "metadata": {},
   "source": [
    "## 第一步：加载合同报表内容到内存"
   ]
  },
  {
   "cell_type": "code",
   "execution_count": 2,
   "metadata": {},
   "outputs": [
    {
     "name": "stdout",
     "output_type": "stream",
     "text": [
      "请输入中板均价：3879\n"
     ]
    }
   ],
   "source": [
    "# 参数\n",
    "PATH = os.path.abspath(r\"C:\\Users\\Administrator\\Downloads\")\n",
    "CONTRACT_FILENAME = \"7月合同报表.xls\"\n",
    "\n",
    "## 宽厚板指数销量和价格获取\n",
    "MONTH_ZHONGBAN_COUNT = 77150\n",
    "ZHONGBAN_PRICE = int(input(\"请输入中板均价：\"))"
   ]
  },
  {
   "cell_type": "code",
   "execution_count": 3,
   "metadata": {},
   "outputs": [],
   "source": [
    "# 读取当月月报\n",
    "df = pd.DataFrame(pd.read_excel(os.path.join(PATH,CONTRACT_FILENAME),header =1))\n",
    "# df.head()\n",
    "\n",
    "companys = df['卖家'].unique().tolist()\n",
    "\n",
    "for co in companys:\n",
    "    if co.__contains__(\"淮钢\"):\n",
    "        print(\"今天又淮钢数据，模板中没有，是否需要统计，请教严丰\")"
   ]
  },
  {
   "cell_type": "markdown",
   "metadata": {},
   "source": [
    "## 第2步：转换df的“合同日期”时间，用于计算当周的数据（如上周五-本周四，或周一到周五），通过手动输入设置"
   ]
  },
  {
   "cell_type": "code",
   "execution_count": 4,
   "metadata": {},
   "outputs": [],
   "source": [
    "def format_date(test_date_string):\n",
    "    date_value = datetime.datetime.strptime(test_date_string,\"%Y-%m-%d %H:%M:%S\")\n",
    "    contract_year = date_value.date().year\n",
    "    contract_month = date_value.date().month\n",
    "    contract_day = date_value.date().day\n",
    "    return str(contract_year)+ \"-\" + str(contract_month) + \"-\" + str(contract_day)\n",
    "\n",
    "df[\"合同日期\"] = df[\"合同日期\"].map(format_date)"
   ]
  },
  {
   "cell_type": "code",
   "execution_count": 5,
   "metadata": {},
   "outputs": [
    {
     "name": "stdout",
     "output_type": "stream",
     "text": [
      "请输入统计周的开始日期值：2020-7-3\n",
      "请输入统计周的结束日期值：2020-7-9\n"
     ]
    }
   ],
   "source": [
    "start_day = input(\"请输入统计周的开始日期值：\")  # 输入格式如：2020-7-3\n",
    "end_day = input(\"请输入统计周的结束日期值：\")\n",
    "def get_week(day):\n",
    "    start_strptime = datetime.datetime.strptime(start_day, '%Y-%m-%d')\n",
    "    end_strptime = datetime.datetime.strptime(end_day, '%Y-%m-%d')\n",
    "    \n",
    "    day_strptime = datetime.datetime.strptime(day, '%Y-%m-%d')\n",
    "    if day_strptime >= start_strptime and day_strptime <= end_strptime:\n",
    "        return True\n",
    "    else:\n",
    "        return False\n",
    "\n",
    "\n",
    "df[\"是否统计周\"] = df[\"合同日期\"].map(get_week)"
   ]
  },
  {
   "cell_type": "markdown",
   "metadata": {},
   "source": [
    "## 第3步：根据“是否是统计周”字段进行条件筛选，将获取到的当天的数据进行汇总，求和，取出当天的计算数据。"
   ]
  },
  {
   "cell_type": "markdown",
   "metadata": {},
   "source": [
    "## 统计周数据\n",
    "- 当周 平台钢材成交总量   **steel_transaction_count**\n",
    "    - 当周 合同【数量】字段汇总\n",
    "    - 当周 中板指数成交数量（根据月度指标求均值，或问严丰要实际数据）\n",
    "- 当周现货竞拍成交总量   **bids_transaction_count**\n",
    "        - 当周物贸余材竞拍成交量 + 当周轧花厂竞拍成交量 + 当周东北特钢竞拍成交量\n",
    "    - 物贸余材竞拍成交总量 **wumao_bids_transaction_count**\n",
    "        - 卖家是【江苏沙钢物资贸易有限公司】的【数量】字段汇总\n",
    "    - 轧花厂竞拍成交总量 **yahuacang_bids_transaction_count**\n",
    "        - 卖家是【张家港市锦丰轧花剥绒有限责任公司】的【数量】字段汇总\n",
    "    - 东北特钢竞拍成交总量  **dongbei_bids_transaction_count**\n",
    "        - 卖家是【东北特殊钢集团股份有限公司】的【数量】字段汇总\n",
    "- 期货挂牌成交 **qihuo_guapai_count**\n",
    "    - 卖家是【江苏沙钢物资贸易有限公司1】，产品是[\"优线\", \"普冷\",\"酸洗\",\"轧硬\"]\n",
    "- 期货撮合成交 **qihuo_cuohe_count**\n",
    "    - 卖家是【江苏沙钢物资贸易有限公司1】，产品是[\"花纹卷\", \"普卷\",\"C料\",\"螺纹\",\"盘螺\"]\n",
    "- 现货竞拍增值\n",
    "- 平均吨钢竞拍增值\n",
    "\n",
    "- 当周 平台钢材成交总量 **month_steel_transaction_count**\n",
    "    - 竞拍成交总量   **month_bids_transaction_count**\n",
    "    - 期货挂牌成交总量  **month_qihuo_transaction_count**\n",
    "    - 竞拍撮合成交总量  **month_jingpai_cuohe_transaction_count**\n",
    "    - 轧花厂成交总量   **month_yahuacang_transaction_count**\n"
   ]
  },
  {
   "cell_type": "code",
   "execution_count": 6,
   "metadata": {},
   "outputs": [],
   "source": [
    "bids_transaction_count = 0\n",
    "\n",
    "# 物贸余材竞拍成交总量 wumao_bids_transaction_count，卖家是【江苏沙钢物资贸易有限公司】的【数量】字段汇总\n",
    "wumao_bids_transaction_count = df[\"数量\"].loc[(df[\"是否统计周\"] == True) & (df[\"卖家\"] == \"江苏沙钢物资贸易有限公司\")].sum()\n",
    "wumao_bids_transaction_price = df[\"贷款\"].loc[(df[\"是否统计周\"] == True) & (df[\"卖家\"] == \"江苏沙钢物资贸易有限公司\")].sum()\n",
    "# 轧花厂竞拍成交总量 yahuacang_bids_transaction_count，卖家是【张家港市锦丰轧花剥绒有限责任公司】的【数量】字段汇总\n",
    "yahuacang_bids_transaction_count = df[\"数量\"].loc[(df[\"是否统计周\"] == True) & (df[\"卖家\"] == \"张家港市锦丰轧花剥绒有限责任公司\")].sum()\n",
    "yahuacang_bids_transaction_price = df[\"贷款\"].loc[(df[\"是否统计周\"] == True) & (df[\"卖家\"] == \"张家港市锦丰轧花剥绒有限责任公司\")].sum()\n",
    "# 东北特钢竞拍成交总量  dongbei_bids_transaction_count，卖家是【东北特殊钢集团股份有限公司】的【数量】字段汇总\n",
    "dongbei_bids_transaction_count = df[\"数量\"].loc[(df[\"是否统计周\"] == True) & (df[\"卖家\"] == \"东北特殊钢集团股份有限公司\")].sum()\n",
    "dongbei_bids_transaction_price = df[\"贷款\"].loc[(df[\"是否统计周\"] == True) & (df[\"卖家\"] == \"东北特殊钢集团股份有限公司\")].sum()\n",
    "\n",
    "\n",
    "# 当周现货竞拍成交总量  bids_transaction_count，当周物贸余材竞拍成交量 + 当周轧花厂竞拍成交量 + 当周东北特钢竞拍成交量\n",
    "bids_transaction_count = wumao_bids_transaction_count + yahuacang_bids_transaction_count + dongbei_bids_transaction_count\n",
    "# 当周现货竞拍成交总额 bids_transaction_price，当周物贸余材竞拍成交总额 + 当周轧花厂竞拍成总额  + 当周东北特钢竞拍成总额 \n",
    "bids_transaction_price = wumao_bids_transaction_price + yahuacang_bids_transaction_price + dongbei_bids_transaction_price"
   ]
  },
  {
   "cell_type": "markdown",
   "metadata": {},
   "source": [
    "\"1、本周完成钢材在线交易3.53万吨，成交金额1.33亿元，招标采购标书129份标书定标，中标金额约为3.69亿元，另有680份标书进行中；新增会员23家，其中销售类会员5家，供应类会员18家；\n",
    "2、本周平台完成现货竞拍1.6万吨，其中沙钢物贸成交1.46万吨，轧花厂成交1390吨，东北特钢成交53吨，宽厚板指数定价成交1.93万吨，本周竞拍增值73.16万元，吨钢增值50.11元。\"\n"
   ]
  },
  {
   "cell_type": "code",
   "execution_count": 7,
   "metadata": {},
   "outputs": [],
   "source": [
    "# 期货挂牌成交 qihuo_guapai_count，卖家是【江苏沙钢物资贸易有限公司1】，产品是[\"优线\", \"普冷\",\"酸洗\",\"轧硬\"]\n",
    "# 期货撮合成交 qihuo_cuohe_count，卖家是【江苏沙钢物资贸易有限公司1】，产品是[\"花纹卷\", \"普卷\",\"C料\",\"螺纹\",\"盘螺\"]\n",
    "guapai_week = df.query('品名 == [\"优线\", \"普冷\",\"酸洗\",\"轧硬\"]').loc[(df[\"卖家\"] == \"江苏沙钢物资贸易有限公司1\") & (df[\"是否统计周\"] == True)]\n",
    "qihuo_guapai_count = guapai_week[\"数量\"].sum()\n",
    "cuohe_week = df.query('品名 == [\"花纹卷\", \"普卷\",\"C料\",\"螺纹\",\"盘螺\"]').loc[(df[\"卖家\"] == \"江苏沙钢物资贸易有限公司1\") & (df[\"是否统计周\"] == True)]\n",
    "qihuo_cuohe_count =  cuohe_week[\"数量\"].sum()"
   ]
  },
  {
   "cell_type": "markdown",
   "metadata": {},
   "source": [
    "## 中厚板成交量和价格"
   ]
  },
  {
   "cell_type": "code",
   "execution_count": 8,
   "metadata": {},
   "outputs": [],
   "source": [
    "week_zhongban_count = 77150 / 4 \n",
    "week_zhongban_price = week_zhongban_count * ZHONGBAN_PRICE"
   ]
  },
  {
   "cell_type": "markdown",
   "metadata": {},
   "source": [
    "## 周报内容拼接"
   ]
  },
  {
   "cell_type": "code",
   "execution_count": 9,
   "metadata": {},
   "outputs": [
    {
     "name": "stdout",
     "output_type": "stream",
     "text": [
      "请输入本周招标采购标书定标份数：129\n",
      "请输入本周招标采购中标金额：3.69\n",
      "请输入本周正在进行中的标书：680\n",
      "请输入本周新增会员数：23\n",
      "请输入销售类会员数：5\n",
      "请输入供应类会员数：18\n"
     ]
    }
   ],
   "source": [
    "biaoshu_confirm = int(input(\"请输入本周招标采购标书定标份数：\"))\n",
    "biaoshu_money = input(\"请输入本周招标采购中标金额：\")\n",
    "biaoshu_continue = int(input(\"请输入本周正在进行中的标书：\"))\n",
    "\n",
    "increase_count = int(input(\"请输入本周新增会员数：\"))\n",
    "increase_count_sales = int(input(\"请输入销售类会员数：\"))\n",
    "increase_count_gongying = int(input(\"请输入供应类会员数：\"))"
   ]
  },
  {
   "cell_type": "code",
   "execution_count": 10,
   "metadata": {},
   "outputs": [],
   "source": [
    "week_report1 = \"\"\"1、本周完成钢材在线交易{0}万吨，成交金额{1}亿元；\n",
    "招标采购标书{2}份标书定标，中标金额约为{3}亿元，另有{4}份标书进行中；\n",
    "新增会员{5}家，其中销售类会员{6}家，供应类会员{7}家；\n",
    "\"\"\".format(\n",
    "           round((bids_transaction_count + week_zhongban_count) / 10000  ,2),\n",
    "           round((bids_transaction_price + week_zhongban_price) / 10000 / 10000 ,2),\n",
    "           round(biaoshu_confirm,2),\n",
    "           biaoshu_money,\n",
    "           round(biaoshu_continue,2),\n",
    "           round(increase_count,2),\n",
    "           round(increase_count_sales,2),\n",
    "           round(increase_count_gongying,2),\n",
    "          )"
   ]
  },
  {
   "cell_type": "code",
   "execution_count": 15,
   "metadata": {},
   "outputs": [],
   "source": [
    "# 本周内容拼接\n",
    "week_report2 = \"\"\"2、本周平台完成现货竞拍{0}万吨，\n",
    "其中沙钢物贸成交{1}吨，\n",
    "轧花厂成交{2}吨，\n",
    "东北特钢成交{3}吨，\n",
    "宽厚板指数定价成交{4}万吨，\n",
    "本周竞拍增值()万元，\n",
    "吨钢增值()元。\"\"\".format(\n",
    "           round(bids_transaction_count / 10000,2),\n",
    "           round(wumao_bids_transaction_count,2),\n",
    "           round(yahuacang_bids_transaction_count,2),\n",
    "           round(dongbei_bids_transaction_count,2),\n",
    "           round(week_zhongban_count / 10000,2),\n",
    "          )"
   ]
  },
  {
   "cell_type": "code",
   "execution_count": 16,
   "metadata": {
    "scrolled": false
   },
   "outputs": [
    {
     "data": {
      "text/plain": [
       "'1、本周完成钢材在线交易3.53万吨，成交金额1.35亿元；\\n招标采购标书129份标书定标，中标金额约为3.69亿元，另有680份标书进行中；\\n新增会员23家，其中销售类会员5家，供应类会员18家；\\n2、本周平台完成现货竞拍1.6万吨，\\n其中沙钢物贸成交14602.03吨，\\n轧花厂成交1390.0吨，\\n东北特钢成交53.38吨，\\n宽厚板指数定价成交1.93万吨，\\n本周竞拍增值()万元，\\n吨钢增值()元。'"
      ]
     },
     "execution_count": 16,
     "metadata": {},
     "output_type": "execute_result"
    }
   ],
   "source": [
    "week_report1 + week_report2"
   ]
  },
  {
   "cell_type": "markdown",
   "metadata": {},
   "source": [
    "\"1、本周完成钢材在线交易3.53万吨，成交金额1.33亿元，招标采购标书129份标书定标，中标金额约为3.69亿元，另有680份标书进行中；新增会员23家，其中销售类会员5家，供应类会员18家； 2、本周平台完成现货竞拍1.6万吨，其中沙钢物贸成交1.46万吨，轧花厂成交1390吨，东北特钢成交53吨，宽厚板指数定价成交1.93万吨，本周竞拍增值73.16万元，吨钢增值50.11元。\""
   ]
  }
 ],
 "metadata": {
  "kernelspec": {
   "display_name": "Python 3",
   "language": "python",
   "name": "python3"
  },
  "language_info": {
   "codemirror_mode": {
    "name": "ipython",
    "version": 3
   },
   "file_extension": ".py",
   "mimetype": "text/x-python",
   "name": "python",
   "nbconvert_exporter": "python",
   "pygments_lexer": "ipython3",
   "version": "3.7.6"
  }
 },
 "nbformat": 4,
 "nbformat_minor": 4
}
