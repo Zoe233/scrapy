{
 "cells": [
  {
   "cell_type": "markdown",
   "metadata": {},
   "source": [
    "# 每日简报"
   ]
  },
  {
   "cell_type": "code",
   "execution_count": 1,
   "metadata": {},
   "outputs": [],
   "source": [
    "import os\n",
    "import time\n",
    "import datetime\n",
    "import numpy as np\n",
    "import pandas as pd"
   ]
  },
  {
   "cell_type": "markdown",
   "metadata": {},
   "source": [
    "## 第一步：加载合同报表内容到内存"
   ]
  },
  {
   "cell_type": "code",
   "execution_count": 2,
   "metadata": {},
   "outputs": [],
   "source": [
    "# 参数\n",
    "PATH = os.path.abspath(r\"C:\\Users\\Administrator\\Downloads\")\n",
    "CONTRACT_FILENAME = \"7月合同报表.xls\""
   ]
  },
  {
   "cell_type": "code",
   "execution_count": 3,
   "metadata": {
    "scrolled": true
   },
   "outputs": [],
   "source": [
    "# 读取当月月报\n",
    "df = pd.DataFrame(pd.read_excel(os.path.join(PATH,CONTRACT_FILENAME),header =1))\n",
    "# df.head()"
   ]
  },
  {
   "cell_type": "code",
   "execution_count": 4,
   "metadata": {},
   "outputs": [],
   "source": [
    "companys = df['卖家'].unique().tolist()\n",
    "\n",
    "for co in companys:\n",
    "    if co.__contains__(\"淮钢\"):\n",
    "        print(\"今天又淮钢数据，模板中没有，是否需要统计，请教严丰\")\n",
    "\n"
   ]
  },
  {
   "cell_type": "markdown",
   "metadata": {},
   "source": [
    "## 第2步：转换df的“合同日期”时间，用于分别计算当日和当月的数据"
   ]
  },
  {
   "cell_type": "code",
   "execution_count": 5,
   "metadata": {},
   "outputs": [],
   "source": [
    "def format_date(test_date_string):\n",
    "    date = datetime.datetime.strptime(test_date_string,\"%Y-%m-%d %H:%M:%S\")\n",
    "    return date\n",
    "df[\"合同日期\"] = df[\"合同日期\"].map(format_date)"
   ]
  },
  {
   "cell_type": "code",
   "execution_count": 6,
   "metadata": {},
   "outputs": [],
   "source": [
    "localtime = time.localtime(time.time())\n",
    "def compare_date(contract_time):\n",
    "    # “合同日期”取出 年，月，日；与本地时间的 年 月 日进行比较，用于取出合同日期为当天的\n",
    "    contract_year = contract_time.date().year\n",
    "    contract_month = contract_time.date().month\n",
    "    contract_day = contract_time.date().day\n",
    "    \n",
    "    localtime = time.localtime(time.time())\n",
    "    if contract_year == localtime.tm_year and contract_month == localtime.tm_mon and contract_day == localtime.tm_mday: \n",
    "    # if contract_year == localtime.tm_year and contract_month == localtime.tm_mon and contract_day == 11:\n",
    "        return True\n",
    "    else:\n",
    "        return False\n",
    "\n",
    "\n",
    "# 用 compare_date方法判断 合同日期“是否是当天”，将该列作为后续计算当天数据指标的判断条件\n",
    "df[\"是否是当天\"] = df[\"合同日期\"].map(compare_date)"
   ]
  },
  {
   "cell_type": "markdown",
   "metadata": {},
   "source": [
    "## 第3步：根据“是否是当天”字段进行条件筛选，将获取到的当天的数据进行汇总，求和，取出当天的计算数据。"
   ]
  },
  {
   "cell_type": "code",
   "execution_count": 7,
   "metadata": {
    "scrolled": true
   },
   "outputs": [
    {
     "data": {
      "text/plain": [
       "756    True\n",
       "757    True\n",
       "758    True\n",
       "759    True\n",
       "760    True\n",
       "       ... \n",
       "935    True\n",
       "936    True\n",
       "937    True\n",
       "938    True\n",
       "939    True\n",
       "Name: 是否是当天, Length: 184, dtype: bool"
      ]
     },
     "execution_count": 7,
     "metadata": {},
     "output_type": "execute_result"
    }
   ],
   "source": [
    "df[\"是否是当天\"].loc[df[\"是否是当天\"] == True]"
   ]
  },
  {
   "cell_type": "markdown",
   "metadata": {},
   "source": [
    "## 当日数据\n",
    "- 当天 平台钢材成交总量   **today_steel_transaction_count**\n",
    "    - 当天 合同【数量】字段汇总\n",
    "- 当日现货竞拍成交总量   **today_bids_transaction_count**\n",
    "        - 当日物贸余材竞拍成交量 + 当日轧花厂竞拍成交量 + 当日东北特钢竞拍成交量\n",
    "    - 物贸余材竞拍成交总量 **today_wumao_bids_transaction_count**\n",
    "        - 卖家是【江苏沙钢物资贸易有限公司】的【数量】字段汇总\n",
    "    - 轧花厂竞拍成交总量 **today_yahuacang_bids_transaction_count**\n",
    "        - 卖家是【张家港市锦丰轧花剥绒有限责任公司】的【数量】字段汇总\n",
    "    - 东北特钢竞拍成交总量  **today_dongbei_bids_transaction_count**\n",
    "        - 卖家是【东北特殊钢集团股份有限公司】的【数量】字段汇总\n",
    "- 期货挂牌成交 **qihuo_guapai_count**\n",
    "    - 卖家是【江苏沙钢物资贸易有限公司1】，产品是[\"优线\", \"普冷\",\"酸洗\",\"轧硬\"]\n",
    "- 期货撮合成交 **qihuo_cuohe_count**\n",
    "    - 卖家是【江苏沙钢物资贸易有限公司1】，产品是[\"花纹卷\", \"普卷\",\"C料\",\"螺纹\",\"盘螺\"]\n",
    "- 现货竞拍增值\n",
    "- 平均吨钢竞拍增值\n",
    "\n"
   ]
  },
  {
   "cell_type": "code",
   "execution_count": 8,
   "metadata": {},
   "outputs": [
    {
     "data": {
      "text/plain": [
       "2000.877"
      ]
     },
     "execution_count": 8,
     "metadata": {},
     "output_type": "execute_result"
    }
   ],
   "source": [
    "# 当天 平台钢材成交总量 today_steel_transaction_count\n",
    "# 当天 合同【数量】字段汇总\n",
    "today_steel_transaction_count = df[\"数量\"].loc[df[\"是否是当天\"] == True].sum()\n",
    "today_steel_transaction_count"
   ]
  },
  {
   "cell_type": "code",
   "execution_count": 9,
   "metadata": {},
   "outputs": [],
   "source": [
    "today_bids_transaction_count = 0\n",
    "today_wumao_bids_transaction_count = df[\"数量\"].loc[(df[\"是否是当天\"] == True) & (df[\"卖家\"] == \"江苏沙钢物资贸易有限公司\")].sum()\n",
    "today_yahuacang_bids_transaction_count = df[\"数量\"].loc[(df[\"是否是当天\"] == True) & (df[\"卖家\"] == \"张家港市锦丰轧花剥绒有限责任公司\")].sum()\n",
    "today_dongbei_bids_transaction_count = df[\"数量\"].loc[(df[\"是否是当天\"] == True) & (df[\"卖家\"] == \"东北特殊钢集团股份有限公司\")].sum()\n",
    "\n",
    "\n",
    "today_bids_transaction_count = today_wumao_bids_transaction_count + today_yahuacang_bids_transaction_count + today_dongbei_bids_transaction_count"
   ]
  },
  {
   "cell_type": "code",
   "execution_count": 10,
   "metadata": {},
   "outputs": [],
   "source": [
    "guapai_today = df.query('品名 == [\"优线\", \"普冷\",\"酸洗\",\"轧硬\"]').loc[(df[\"卖家\"] == \"江苏沙钢物资贸易有限公司1\") & (df[\"是否是当天\"] == True)]\n",
    "qihuo_guapai_count = guapai_today[\"数量\"].sum()\n",
    "cuohe_today = df.query('品名 == [\"花纹卷\", \"普卷\",\"C料\",\"螺纹\",\"盘螺\"]').loc[(df[\"卖家\"] == \"江苏沙钢物资贸易有限公司1\") & (df[\"是否是当天\"] == True)]\n",
    "qihuo_cuohe_count =  cuohe_today[\"数量\"].sum()"
   ]
  },
  {
   "cell_type": "markdown",
   "metadata": {},
   "source": [
    "#### 用于汇总表统计"
   ]
  },
  {
   "cell_type": "code",
   "execution_count": 11,
   "metadata": {},
   "outputs": [
    {
     "name": "stdout",
     "output_type": "stream",
     "text": [
      "2000.877\n",
      "7356274.649999999\n"
     ]
    }
   ],
   "source": [
    "print(today_steel_transaction_count)\n",
    "\n",
    "total_price = df[\"贷款\"].loc[(df[\"是否是当天\"] == True)].sum()\n",
    "print(total_price)"
   ]
  },
  {
   "cell_type": "markdown",
   "metadata": {},
   "source": [
    "## 本月累计数据"
   ]
  },
  {
   "cell_type": "markdown",
   "metadata": {},
   "source": [
    "## 当月数据\n",
    "- 本月 平台钢材成交总量 **month_steel_transaction_count**\n",
    "    - 竞拍成交总量   **month_bids_transaction_count**\n",
    "    - 期货挂牌成交总量  **month_qihuo_transaction_count**\n",
    "    - 竞拍撮合成交总量  **month_jingpai_cuohe_transaction_count**\n",
    "    - 轧花厂成交总量   **month_yahuacang_transaction_count**\n",
    "- 本月竞拍增值\n",
    "- 平均吨钢竞拍增值"
   ]
  },
  {
   "cell_type": "markdown",
   "metadata": {},
   "source": [
    "### 注意：\n",
    "需要注意期货挂牌成交 和 期货撮合成交 的计算，需要和每日导出的采购成交一览表一起对比。   \n",
    "由于里面产品是不一定会挂在挂牌 或 撮合 的。"
   ]
  },
  {
   "cell_type": "code",
   "execution_count": 12,
   "metadata": {},
   "outputs": [],
   "source": [
    "# 本月 平台钢材成交总量 month_steel_transaction_count\n",
    "month_steel_transaction_count = df[\"数量\"].sum()\n",
    "\n",
    "# 本月累计竞拍成交总量\n",
    "month_bids_transaction_count = df[\"数量\"].loc[df[\"卖家\"] != \"江苏沙钢物资贸易有限公司1\"].sum()\n",
    "# 期货挂牌成交总量\n",
    "qihuo = df.query('品名 == [\"优线\", \"普冷\",\"酸洗\",\"轧硬\"]').loc[df[\"卖家\"] == \"江苏沙钢物资贸易有限公司1\"]\n",
    "month_qihuo_transaction_count = qihuo['数量'].sum()\n",
    "# 竞拍撮合成交总量\n",
    "cuohe = df.query('品名 == [\"花纹卷\", \"普卷\",\"C料\",\"螺纹\",\"盘螺\"]').loc[df[\"卖家\"] == \"江苏沙钢物资贸易有限公司1\"]\n",
    "month_jingpai_cuohe_transaction_count = cuohe[\"数量\"].sum()\n",
    "# 轧花厂成交总量\n",
    "month_yahuacang_transaction_count = df[\"数量\"].loc[df[\"卖家\"] == \"张家港市锦丰轧花剥绒有限责任公司\"].sum()"
   ]
  },
  {
   "cell_type": "markdown",
   "metadata": {},
   "source": [
    "## 电商交易日简报 拼接"
   ]
  },
  {
   "cell_type": "code",
   "execution_count": 13,
   "metadata": {},
   "outputs": [],
   "source": [
    "# 本日内容拼接\n",
    "daily_report = \"\"\"电商交易日简报：\n",
    "{0}月{1}日，电商平台钢材成交总量（{2}）吨。\n",
    "本日现货竞拍成交（{3}）吨，其中物贸余材竞拍成交（{4}）吨；轧花厂竞拍成交（{5}）吨；东北特钢竞拍成交（{6}）吨。期货挂牌成交（{12}）吨；期货撮合成交（{13}）吨。本日现货竞拍增值（_____）万元，平均吨钢竞拍增值（_______）元/吨。\n",
    "本月截至今日，电商平台钢材成交总量（{7}）吨。其中竞拍成交（{8}）吨；期货挂牌成交（{10}）吨；竞拍撮合成交（{9}）吨；轧花厂成交（{11}）吨。本月竞拍增值（________）万元，平均吨钢竞拍增值（______）元/吨。  \n",
    "\"\"\".format(localtime.tm_mon,\n",
    "           localtime.tm_mday,\n",
    "           round(today_steel_transaction_count,2),\n",
    "           round(today_bids_transaction_count,2),\n",
    "           round(today_wumao_bids_transaction_count,2),\n",
    "           round(today_yahuacang_bids_transaction_count,2),\n",
    "           round(today_dongbei_bids_transaction_count,2),\n",
    "           round(month_steel_transaction_count,2),\n",
    "           round(month_bids_transaction_count,2),\n",
    "           round(month_jingpai_cuohe_transaction_count,2),\n",
    "           round(month_qihuo_transaction_count,2),\n",
    "           round(month_yahuacang_transaction_count,2),\n",
    "           round(qihuo_guapai_count,2),\n",
    "           round(qihuo_cuohe_count,2)\n",
    "          \n",
    "          \n",
    "          )"
   ]
  },
  {
   "cell_type": "code",
   "execution_count": 14,
   "metadata": {
    "scrolled": true
   },
   "outputs": [
    {
     "data": {
      "text/plain": [
       "'电商交易日简报：\\n7月3日，电商平台钢材成交总量（2000.88）吨。\\n本日现货竞拍成交（2000.88）吨，其中物贸余材竞拍成交（1700.88）吨；轧花厂竞拍成交（300.0）吨；东北特钢竞拍成交（0.0）吨。期货挂牌成交（0.0）吨；期货撮合成交（0.0）吨。本日现货竞拍增值（_____）万元，平均吨钢竞拍增值（_______）元/吨。\\n本月截至今日，电商平台钢材成交总量（6674.34）吨。其中竞拍成交（6674.34）吨；期货挂牌成交（0.0）吨；竞拍撮合成交（0.0）吨；轧花厂成交（600.0）吨。本月竞拍增值（________）万元，平均吨钢竞拍增值（______）元/吨。  \\n'"
      ]
     },
     "execution_count": 14,
     "metadata": {},
     "output_type": "execute_result"
    }
   ],
   "source": [
    "daily_report"
   ]
  },
  {
   "cell_type": "code",
   "execution_count": 15,
   "metadata": {},
   "outputs": [],
   "source": [
    "filename = '每日简报.txt'\n",
    "with open(os.path.join(PATH,filename),'w') as f: # 如果filename不存在会自动创建， 'w'表示写数据，写之前会清空文件中的原有数据！\n",
    "    f.write(daily_report)"
   ]
  },
  {
   "cell_type": "markdown",
   "metadata": {},
   "source": [
    "电商交易日简报：\n",
    "5月30日，电商平台钢材成交总量（1616.15）吨。\n",
    "本日现货竞拍成交（1616.15）吨，其中物贸余材竞拍成交（1456.15）吨；轧花厂竞拍成交（160.0）吨。本日现货竞拍增值1.82万元，平均吨钢\n",
    "\n",
    "竞拍增值12.49元/吨。\n",
    "本月截至今日，电商平台钢材成交总量（200619.63）吨。其中竞拍成交（83727.11）吨；期货挂牌成交（18600.0）吨；竞拍撮合成交（22100.0\n",
    "\n",
    "）吨；轧花厂成交（10611.0）吨；宽厚板指数定价成交量（76192.52）吨。本月竞拍增值270.16万元，平均吨钢竞拍增值38.53元/吨。  \n",
    "本日电商平台注册新客户（4）家，本月累计注册新客户（90）家，其中销售类客户（16）家，供应类客户（74）家。 \n",
    "本日发布标书（23）份，本月累计发布标书（544）份。\n",
    "本日系统运行正常。"
   ]
  },
  {
   "cell_type": "code",
   "execution_count": null,
   "metadata": {},
   "outputs": [],
   "source": []
  }
 ],
 "metadata": {
  "kernelspec": {
   "display_name": "Python 3",
   "language": "python",
   "name": "python3"
  },
  "language_info": {
   "codemirror_mode": {
    "name": "ipython",
    "version": 3
   },
   "file_extension": ".py",
   "mimetype": "text/x-python",
   "name": "python",
   "nbconvert_exporter": "python",
   "pygments_lexer": "ipython3",
   "version": "3.7.6"
  }
 },
 "nbformat": 4,
 "nbformat_minor": 4
}
